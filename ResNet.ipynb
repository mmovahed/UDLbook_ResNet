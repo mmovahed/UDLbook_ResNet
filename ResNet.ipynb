{
  "nbformat": 4,
  "nbformat_minor": 0,
  "metadata": {
    "colab": {
      "provenance": [],
      "authorship_tag": "ABX9TyNqP1OGbUmteTBTbnzwJdWA",
      "include_colab_link": true
    },
    "kernelspec": {
      "name": "python3",
      "display_name": "Python 3"
    },
    "language_info": {
      "name": "python"
    }
  },
  "cells": [
    {
      "cell_type": "markdown",
      "metadata": {
        "id": "view-in-github",
        "colab_type": "text"
      },
      "source": [
        "<a href=\"https://colab.research.google.com/github/mmovahed/UDLbook_ResNet/blob/main/ResNet.ipynb\" target=\"_parent\"><img src=\"https://colab.research.google.com/assets/colab-badge.svg\" alt=\"Open In Colab\"/></a>"
      ]
    },
    {
      "cell_type": "code",
      "execution_count": 1,
      "metadata": {
        "colab": {
          "base_uri": "https://localhost:8080/"
        },
        "id": "lHYcRUqYlNRi",
        "outputId": "33fa9e61-43bc-46de-ba95-e79f6f96fc3d"
      },
      "outputs": [
        {
          "output_type": "stream",
          "name": "stdout",
          "text": [
            "Cloning into 'mnist1d'...\n",
            "remote: Enumerating objects: 204, done.\u001b[K\n",
            "remote: Counting objects: 100% (76/76), done.\u001b[K\n",
            "remote: Compressing objects: 100% (35/35), done.\u001b[K\n",
            "remote: Total 204 (delta 47), reused 60 (delta 41), pack-reused 128\u001b[K\n",
            "Receiving objects: 100% (204/204), 8.42 MiB | 23.50 MiB/s, done.\n",
            "Resolving deltas: 100% (73/73), done.\n"
          ]
        }
      ],
      "source": [
        "# Run this if you're in a Colab to make a local copy of the MNIST 1D repository\n",
        "!git clone https://github.com/greydanus/mnist1d"
      ]
    },
    {
      "cell_type": "code",
      "source": [
        "import numpy as np\n",
        "import os\n",
        "import torch, torch.nn as nn\n",
        "from torch.utils.data import TensorDataset, DataLoader\n",
        "from torch.optim.lr_scheduler import StepLR\n",
        "import matplotlib.pyplot as plt\n",
        "import mnist1d\n",
        "import random"
      ],
      "metadata": {
        "id": "L08VTbedr6I3"
      },
      "execution_count": 2,
      "outputs": []
    },
    {
      "cell_type": "code",
      "source": [
        "args = mnist1d.data.get_dataset_args()\n",
        "data = mnist1d.data.get_dataset(args, path='./mnist1d_data.pkl', download=False, regenerate=False)\n",
        "\n",
        "# The training and test input and outputs are in\n",
        "# data['x'], data['y'], data['x_test'], and data['y_test']\n",
        "print(\"Examples in training set: {}\".format(len(data['y'])))\n",
        "print(\"Examples in test set: {}\".format(len(data['y_test'])))\n",
        "print(\"Length of each example: {}\".format(data['x'].shape[-1]))"
      ],
      "metadata": {
        "colab": {
          "base_uri": "https://localhost:8080/"
        },
        "id": "LtlHsomKr8Ad",
        "outputId": "b8699f9e-28a4-4b1c-8149-e2f2ff3ec83a"
      },
      "execution_count": 3,
      "outputs": [
        {
          "output_type": "stream",
          "name": "stdout",
          "text": [
            "Did or could not load data from ./mnist1d_data.pkl. Rebuilding dataset...\n",
            "Examples in training set: 4000\n",
            "Examples in test set: 1000\n",
            "Length of each example: 40\n"
          ]
        }
      ]
    },
    {
      "cell_type": "code",
      "source": [
        "# Load in the data\n",
        "train_data_x = data['x'].transpose()\n",
        "train_data_y = data['y']\n",
        "val_data_x = data['x_test'].transpose()\n",
        "val_data_y = data['y_test']\n",
        "# Print out sizes\n",
        "print(\"Train data: %d examples (columns), each of which has %d dimensions (rows)\"%((train_data_x.shape[1],train_data_x.shape[0])))\n",
        "print(\"Validation data: %d examples (columns), each of which has %d dimensions (rows)\"%((val_data_x.shape[1],val_data_x.shape[0])))"
      ],
      "metadata": {
        "colab": {
          "base_uri": "https://localhost:8080/"
        },
        "id": "D1tHwiPysBO8",
        "outputId": "9577c219-10ed-4966-c22c-6ffb3e35c718"
      },
      "execution_count": 4,
      "outputs": [
        {
          "output_type": "stream",
          "name": "stdout",
          "text": [
            "Train data: 4000 examples (columns), each of which has 40 dimensions (rows)\n",
            "Validation data: 1000 examples (columns), each of which has 40 dimensions (rows)\n"
          ]
        }
      ]
    },
    {
      "cell_type": "code",
      "source": [
        "# There are 40 input dimensions and 10 output dimensions for this data\n",
        "# The inputs correspond to the 40 offsets in the MNIST1D template.\n",
        "D_i = 40\n",
        "# The outputs correspond to the 10 digits\n",
        "D_o = 10\n",
        "\n",
        "\n",
        "# We will adapt this model to have residual connections around the linear layers\n",
        "# This is the same model we used in practical 8.1, but we can't use the sequential\n",
        "# class for residual networks (which aren't strictly sequential).  Hence, I've rewritten\n",
        "# it as a model that inherits from a base class\n",
        "\n",
        "class ResidualNetwork(torch.nn.Module):\n",
        "  def __init__(self, input_size, output_size, hidden_size=100):\n",
        "    super(ResidualNetwork, self).__init__()\n",
        "    self.linear1 = nn.Linear(input_size, hidden_size)\n",
        "    self.linear2 = nn.Linear(hidden_size, hidden_size)\n",
        "    self.linear3 = nn.Linear(hidden_size, hidden_size)\n",
        "    self.linear4 = nn.Linear(hidden_size, output_size)\n",
        "    print(\"Initialized MLPBase model with {} parameters\".format(self.count_params()))\n",
        "\n",
        "  def count_params(self):\n",
        "    return sum([p.view(-1).shape[0] for p in self.parameters()])\n",
        "\n",
        "# TODO -- Add residual connections to this model\n",
        "# The order of operations within each block should similar to figure 11.5b\n",
        "# ie., linear1 first, ReLU+linear2 in first residual block, ReLU+linear3 in second residual block), linear4 at end\n",
        "# Replace this function\n",
        "  def forward(self, x):\n",
        "    h1 = self.linear1(x).relu()\n",
        "    h2 = self.linear2(h1).relu()\n",
        "    h3 = self.linear3(h2).relu()\n",
        "    return self.linear4(h3)\n"
      ],
      "metadata": {
        "id": "47w8qMUlsDgU"
      },
      "execution_count": 5,
      "outputs": []
    },
    {
      "cell_type": "code",
      "source": [
        "# He initialization of weights\n",
        "def weights_init(layer_in):\n",
        "  if isinstance(layer_in, nn.Linear):\n",
        "    nn.init.kaiming_uniform_(layer_in.weight)\n",
        "    layer_in.bias.data.fill_(0.0)"
      ],
      "metadata": {
        "id": "2EvVa26qsGZc"
      },
      "execution_count": 6,
      "outputs": []
    },
    {
      "cell_type": "code",
      "source": [
        "#Define the model\n",
        "model = ResidualNetwork(40, 10)\n",
        "\n",
        "# choose cross entropy loss function (equation 5.24 in the loss notes)\n",
        "loss_function = nn.CrossEntropyLoss()\n",
        "# construct SGD optimizer and initialize learning rate and momentum\n",
        "optimizer = torch.optim.SGD(model.parameters(), lr = 0.05, momentum=0.9)\n",
        "# object that decreases learning rate by half every 20 epochs\n",
        "scheduler = StepLR(optimizer, step_size=20, gamma=0.5)\n",
        "# convert data to torch tensors\n",
        "x_train = torch.tensor(train_data_x.transpose().astype('float32'))\n",
        "y_train = torch.tensor(train_data_y.astype('long'))\n",
        "x_val= torch.tensor(val_data_x.transpose().astype('float32'))\n",
        "y_val = torch.tensor(val_data_y.astype('long'))\n",
        "\n",
        "# load the data into a class that creates the batches\n",
        "data_loader = DataLoader(TensorDataset(x_train,y_train), batch_size=100, shuffle=True, worker_init_fn=np.random.seed(1))\n",
        "\n",
        "# Initialize model weights\n",
        "model.apply(weights_init)\n",
        "\n",
        "# loop over the dataset n_epoch times\n",
        "n_epoch = 100\n",
        "# store the loss and the % correct at each epoch\n",
        "losses_train = np.zeros((n_epoch))\n",
        "errors_train = np.zeros((n_epoch))\n",
        "losses_val = np.zeros((n_epoch))\n",
        "errors_val = np.zeros((n_epoch))\n",
        "\n",
        "for epoch in range(n_epoch):\n",
        "  # loop over batches\n",
        "  for i, data in enumerate(data_loader):\n",
        "    # retrieve inputs and labels for this batch\n",
        "    x_batch, y_batch = data\n",
        "    # zero the parameter gradients\n",
        "    optimizer.zero_grad()\n",
        "    # forward pass -- calculate model output\n",
        "    pred = model(x_batch)\n",
        "    # compute the loss\n",
        "    loss = loss_function(pred, y_batch)\n",
        "    # backward pass\n",
        "    loss.backward()\n",
        "    # SGD update\n",
        "    optimizer.step()\n",
        "\n",
        "  # Run whole dataset to get statistics -- normally wouldn't do this\n",
        "  pred_train = model(x_train)\n",
        "  pred_val = model(x_val)\n",
        "  _, predicted_train_class = torch.max(pred_train.data, 1)\n",
        "  _, predicted_val_class = torch.max(pred_val.data, 1)\n",
        "  errors_train[epoch] = 100 - 100 * (predicted_train_class == y_train).float().sum() / len(y_train)\n",
        "  errors_val[epoch]= 100 - 100 * (predicted_val_class == y_val).float().sum() / len(y_val)\n",
        "  losses_train[epoch] = loss_function(pred_train, y_train).item()\n",
        "  losses_val[epoch]= loss_function(pred_val, y_val).item()\n",
        "  print(f'Epoch {epoch:5d}, train loss {losses_train[epoch]:.6f}, train error {errors_train[epoch]:3.2f},  val loss {losses_val[epoch]:.6f}, percent error {errors_val[epoch]:3.2f}')\n",
        "\n",
        "  # tell scheduler to consider updating learning rate\n",
        "  scheduler.step()"
      ],
      "metadata": {
        "colab": {
          "base_uri": "https://localhost:8080/"
        },
        "id": "LyQVwR5csIOj",
        "outputId": "19d22594-07b9-45c9-f4a6-388003845aea"
      },
      "execution_count": 7,
      "outputs": [
        {
          "output_type": "stream",
          "name": "stdout",
          "text": [
            "Initialized MLPBase model with 25310 parameters\n",
            "Epoch     0, train loss 1.629514, train error 65.70,  val loss 1.708748, percent error 70.60\n",
            "Epoch     1, train loss 1.276219, train error 48.00,  val loss 1.426871, percent error 56.40\n",
            "Epoch     2, train loss 1.121975, train error 41.30,  val loss 1.334884, percent error 53.20\n",
            "Epoch     3, train loss 0.952185, train error 34.00,  val loss 1.269820, percent error 51.30\n",
            "Epoch     4, train loss 0.815617, train error 30.45,  val loss 1.193169, percent error 45.60\n",
            "Epoch     5, train loss 0.752484, train error 27.12,  val loss 1.241471, percent error 47.20\n",
            "Epoch     6, train loss 0.646806, train error 22.82,  val loss 1.257300, percent error 46.30\n",
            "Epoch     7, train loss 0.553162, train error 19.45,  val loss 1.184771, percent error 42.70\n",
            "Epoch     8, train loss 0.509538, train error 17.90,  val loss 1.216266, percent error 40.90\n",
            "Epoch     9, train loss 0.462386, train error 16.82,  val loss 1.257739, percent error 43.30\n",
            "Epoch    10, train loss 0.427667, train error 14.62,  val loss 1.270426, percent error 39.30\n",
            "Epoch    11, train loss 0.313652, train error 10.62,  val loss 1.218376, percent error 39.80\n",
            "Epoch    12, train loss 0.204389, train error 6.03,  val loss 1.231395, percent error 38.20\n",
            "Epoch    13, train loss 0.206188, train error 6.38,  val loss 1.343820, percent error 39.60\n",
            "Epoch    14, train loss 0.207093, train error 7.10,  val loss 1.458200, percent error 39.00\n",
            "Epoch    15, train loss 0.174350, train error 6.00,  val loss 1.558580, percent error 38.80\n",
            "Epoch    16, train loss 0.220151, train error 8.30,  val loss 1.522050, percent error 39.20\n",
            "Epoch    17, train loss 0.200730, train error 7.12,  val loss 1.596664, percent error 39.60\n",
            "Epoch    18, train loss 0.112531, train error 3.75,  val loss 1.594948, percent error 38.00\n",
            "Epoch    19, train loss 0.181906, train error 6.20,  val loss 1.746017, percent error 38.90\n",
            "Epoch    20, train loss 0.041741, train error 0.57,  val loss 1.547145, percent error 35.10\n",
            "Epoch    21, train loss 0.018405, train error 0.03,  val loss 1.505334, percent error 34.20\n",
            "Epoch    22, train loss 0.011412, train error 0.03,  val loss 1.541209, percent error 33.90\n",
            "Epoch    23, train loss 0.009148, train error 0.00,  val loss 1.574821, percent error 34.30\n",
            "Epoch    24, train loss 0.007624, train error 0.00,  val loss 1.591847, percent error 33.60\n",
            "Epoch    25, train loss 0.006710, train error 0.00,  val loss 1.615608, percent error 33.40\n",
            "Epoch    26, train loss 0.006050, train error 0.00,  val loss 1.628366, percent error 34.00\n",
            "Epoch    27, train loss 0.005517, train error 0.00,  val loss 1.650970, percent error 33.70\n",
            "Epoch    28, train loss 0.005037, train error 0.00,  val loss 1.663543, percent error 33.90\n",
            "Epoch    29, train loss 0.004663, train error 0.00,  val loss 1.678475, percent error 33.80\n",
            "Epoch    30, train loss 0.004346, train error 0.00,  val loss 1.692647, percent error 33.70\n",
            "Epoch    31, train loss 0.004084, train error 0.00,  val loss 1.704703, percent error 33.90\n",
            "Epoch    32, train loss 0.003850, train error 0.00,  val loss 1.714319, percent error 33.90\n",
            "Epoch    33, train loss 0.003612, train error 0.00,  val loss 1.724838, percent error 34.30\n",
            "Epoch    34, train loss 0.003443, train error 0.00,  val loss 1.739450, percent error 34.00\n",
            "Epoch    35, train loss 0.003259, train error 0.00,  val loss 1.744734, percent error 34.30\n",
            "Epoch    36, train loss 0.003099, train error 0.00,  val loss 1.757374, percent error 34.20\n",
            "Epoch    37, train loss 0.002961, train error 0.00,  val loss 1.765357, percent error 34.30\n",
            "Epoch    38, train loss 0.002834, train error 0.00,  val loss 1.774265, percent error 34.40\n",
            "Epoch    39, train loss 0.002720, train error 0.00,  val loss 1.779889, percent error 34.70\n",
            "Epoch    40, train loss 0.002659, train error 0.00,  val loss 1.785313, percent error 34.60\n",
            "Epoch    41, train loss 0.002605, train error 0.00,  val loss 1.788419, percent error 34.70\n",
            "Epoch    42, train loss 0.002556, train error 0.00,  val loss 1.793888, percent error 34.70\n",
            "Epoch    43, train loss 0.002509, train error 0.00,  val loss 1.796970, percent error 34.70\n",
            "Epoch    44, train loss 0.002463, train error 0.00,  val loss 1.800279, percent error 34.60\n",
            "Epoch    45, train loss 0.002418, train error 0.00,  val loss 1.803110, percent error 34.70\n",
            "Epoch    46, train loss 0.002375, train error 0.00,  val loss 1.807202, percent error 34.70\n",
            "Epoch    47, train loss 0.002334, train error 0.00,  val loss 1.810719, percent error 34.50\n",
            "Epoch    48, train loss 0.002294, train error 0.00,  val loss 1.813769, percent error 34.60\n",
            "Epoch    49, train loss 0.002255, train error 0.00,  val loss 1.817320, percent error 34.70\n",
            "Epoch    50, train loss 0.002218, train error 0.00,  val loss 1.819788, percent error 34.60\n",
            "Epoch    51, train loss 0.002183, train error 0.00,  val loss 1.824322, percent error 34.50\n",
            "Epoch    52, train loss 0.002147, train error 0.00,  val loss 1.827153, percent error 34.60\n",
            "Epoch    53, train loss 0.002114, train error 0.00,  val loss 1.828946, percent error 34.70\n",
            "Epoch    54, train loss 0.002081, train error 0.00,  val loss 1.832758, percent error 34.50\n",
            "Epoch    55, train loss 0.002049, train error 0.00,  val loss 1.836725, percent error 34.70\n",
            "Epoch    56, train loss 0.002018, train error 0.00,  val loss 1.838882, percent error 34.50\n",
            "Epoch    57, train loss 0.001988, train error 0.00,  val loss 1.841339, percent error 34.60\n",
            "Epoch    58, train loss 0.001959, train error 0.00,  val loss 1.845120, percent error 34.60\n",
            "Epoch    59, train loss 0.001931, train error 0.00,  val loss 1.847094, percent error 34.70\n",
            "Epoch    60, train loss 0.001917, train error 0.00,  val loss 1.848436, percent error 34.60\n",
            "Epoch    61, train loss 0.001903, train error 0.00,  val loss 1.850189, percent error 34.70\n",
            "Epoch    62, train loss 0.001889, train error 0.00,  val loss 1.851828, percent error 34.60\n",
            "Epoch    63, train loss 0.001876, train error 0.00,  val loss 1.853660, percent error 34.70\n",
            "Epoch    64, train loss 0.001863, train error 0.00,  val loss 1.854222, percent error 34.70\n",
            "Epoch    65, train loss 0.001850, train error 0.00,  val loss 1.855895, percent error 34.70\n",
            "Epoch    66, train loss 0.001838, train error 0.00,  val loss 1.857073, percent error 34.80\n",
            "Epoch    67, train loss 0.001825, train error 0.00,  val loss 1.858513, percent error 34.80\n",
            "Epoch    68, train loss 0.001813, train error 0.00,  val loss 1.859938, percent error 34.70\n",
            "Epoch    69, train loss 0.001801, train error 0.00,  val loss 1.861210, percent error 34.70\n",
            "Epoch    70, train loss 0.001789, train error 0.00,  val loss 1.862852, percent error 34.70\n",
            "Epoch    71, train loss 0.001777, train error 0.00,  val loss 1.864529, percent error 34.70\n",
            "Epoch    72, train loss 0.001765, train error 0.00,  val loss 1.865159, percent error 34.60\n",
            "Epoch    73, train loss 0.001754, train error 0.00,  val loss 1.867154, percent error 34.70\n",
            "Epoch    74, train loss 0.001743, train error 0.00,  val loss 1.868103, percent error 34.70\n",
            "Epoch    75, train loss 0.001731, train error 0.00,  val loss 1.869728, percent error 34.70\n",
            "Epoch    76, train loss 0.001720, train error 0.00,  val loss 1.870927, percent error 34.70\n",
            "Epoch    77, train loss 0.001709, train error 0.00,  val loss 1.871975, percent error 34.80\n",
            "Epoch    78, train loss 0.001698, train error 0.00,  val loss 1.873907, percent error 34.70\n",
            "Epoch    79, train loss 0.001688, train error 0.00,  val loss 1.874979, percent error 34.80\n",
            "Epoch    80, train loss 0.001682, train error 0.00,  val loss 1.875195, percent error 34.80\n",
            "Epoch    81, train loss 0.001677, train error 0.00,  val loss 1.876077, percent error 34.70\n",
            "Epoch    82, train loss 0.001672, train error 0.00,  val loss 1.876622, percent error 34.80\n",
            "Epoch    83, train loss 0.001667, train error 0.00,  val loss 1.877474, percent error 34.80\n",
            "Epoch    84, train loss 0.001662, train error 0.00,  val loss 1.877925, percent error 34.70\n",
            "Epoch    85, train loss 0.001656, train error 0.00,  val loss 1.878365, percent error 34.80\n",
            "Epoch    86, train loss 0.001651, train error 0.00,  val loss 1.879379, percent error 34.80\n",
            "Epoch    87, train loss 0.001646, train error 0.00,  val loss 1.879848, percent error 34.70\n",
            "Epoch    88, train loss 0.001641, train error 0.00,  val loss 1.880657, percent error 34.90\n",
            "Epoch    89, train loss 0.001636, train error 0.00,  val loss 1.881261, percent error 34.90\n",
            "Epoch    90, train loss 0.001631, train error 0.00,  val loss 1.881698, percent error 34.80\n",
            "Epoch    91, train loss 0.001626, train error 0.00,  val loss 1.882366, percent error 34.80\n",
            "Epoch    92, train loss 0.001621, train error 0.00,  val loss 1.883027, percent error 34.80\n",
            "Epoch    93, train loss 0.001617, train error 0.00,  val loss 1.883757, percent error 34.90\n",
            "Epoch    94, train loss 0.001612, train error 0.00,  val loss 1.884285, percent error 34.70\n",
            "Epoch    95, train loss 0.001607, train error 0.00,  val loss 1.884853, percent error 34.80\n",
            "Epoch    96, train loss 0.001602, train error 0.00,  val loss 1.885505, percent error 34.70\n",
            "Epoch    97, train loss 0.001597, train error 0.00,  val loss 1.885970, percent error 34.70\n",
            "Epoch    98, train loss 0.001593, train error 0.00,  val loss 1.886762, percent error 34.70\n",
            "Epoch    99, train loss 0.001588, train error 0.00,  val loss 1.887652, percent error 34.70\n"
          ]
        }
      ]
    },
    {
      "cell_type": "code",
      "source": [
        "# Plot the results\n",
        "fig, ax = plt.subplots()\n",
        "ax.plot(errors_train,'r-',label='train')\n",
        "ax.plot(errors_val,'b-',label='test')\n",
        "ax.set_ylim(0,100); ax.set_xlim(0,n_epoch)\n",
        "ax.set_xlabel('Epoch'); ax.set_ylabel('Error')\n",
        "ax.set_title('TrainError %3.2f, Val Error %3.2f'%(errors_train[-1],errors_val[-1]))\n",
        "ax.legend()\n",
        "plt.show()"
      ],
      "metadata": {
        "colab": {
          "base_uri": "https://localhost:8080/",
          "height": 472
        },
        "id": "7ptQlUdMsJ1l",
        "outputId": "fb827445-41df-4112-a9e0-594678613082"
      },
      "execution_count": 8,
      "outputs": [
        {
          "output_type": "display_data",
          "data": {
            "text/plain": [
              "<Figure size 640x480 with 1 Axes>"
            ],
            "image/png": "[encoded data removed]"
          },
          "metadata": {}
        }
      ]
    }
  ]
}